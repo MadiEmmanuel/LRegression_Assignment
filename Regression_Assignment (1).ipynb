{
 "cells": [
  {
   "cell_type": "code",
   "execution_count": 1,
   "metadata": {},
   "outputs": [
    {
     "data": {
      "text/html": [
       "<div>\n",
       "<style scoped>\n",
       "    .dataframe tbody tr th:only-of-type {\n",
       "        vertical-align: middle;\n",
       "    }\n",
       "\n",
       "    .dataframe tbody tr th {\n",
       "        vertical-align: top;\n",
       "    }\n",
       "\n",
       "    .dataframe thead th {\n",
       "        text-align: right;\n",
       "    }\n",
       "</style>\n",
       "<table border=\"1\" class=\"dataframe\">\n",
       "  <thead>\n",
       "    <tr style=\"text-align: right;\">\n",
       "      <th></th>\n",
       "      <th>Unnamed: 0.1</th>\n",
       "      <th>Unnamed: 0.1.1</th>\n",
       "      <th>Unnamed: 0.1.1.1</th>\n",
       "      <th>Unnamed: 0.1.1.1.1</th>\n",
       "      <th>Unnamed: 0.1.1.1.1.1</th>\n",
       "      <th>Unnamed: 0.1.1.1.1.1.1</th>\n",
       "      <th>Unnamed: 0.1.1.1.1.1.1.1</th>\n",
       "      <th>Unnamed: 0.1.1.1.1.1.1.1.1</th>\n",
       "      <th>Unnamed: 0.1.1.1.1.1.1.1.1.1</th>\n",
       "      <th>Unnamed: 0.1.1.1.1.1.1.1.1.1.1</th>\n",
       "      <th>...</th>\n",
       "      <th>exprior</th>\n",
       "      <th>yearsworked</th>\n",
       "      <th>yearsrank</th>\n",
       "      <th>market</th>\n",
       "      <th>degree</th>\n",
       "      <th>otherqual</th>\n",
       "      <th>position</th>\n",
       "      <th>male</th>\n",
       "      <th>Field</th>\n",
       "      <th>yearsabs</th>\n",
       "    </tr>\n",
       "  </thead>\n",
       "  <tbody>\n",
       "    <tr>\n",
       "      <th>0</th>\n",
       "      <td>0</td>\n",
       "      <td>0</td>\n",
       "      <td>0</td>\n",
       "      <td>0</td>\n",
       "      <td>0</td>\n",
       "      <td>0</td>\n",
       "      <td>0</td>\n",
       "      <td>0</td>\n",
       "      <td>0</td>\n",
       "      <td>0</td>\n",
       "      <td>...</td>\n",
       "      <td>0</td>\n",
       "      <td>0</td>\n",
       "      <td>0</td>\n",
       "      <td>1.17</td>\n",
       "      <td>1</td>\n",
       "      <td>0</td>\n",
       "      <td>1</td>\n",
       "      <td>1</td>\n",
       "      <td>3</td>\n",
       "      <td>0</td>\n",
       "    </tr>\n",
       "    <tr>\n",
       "      <th>1</th>\n",
       "      <td>1</td>\n",
       "      <td>1</td>\n",
       "      <td>1</td>\n",
       "      <td>1</td>\n",
       "      <td>1</td>\n",
       "      <td>1</td>\n",
       "      <td>1</td>\n",
       "      <td>1</td>\n",
       "      <td>1</td>\n",
       "      <td>1</td>\n",
       "      <td>...</td>\n",
       "      <td>1</td>\n",
       "      <td>0</td>\n",
       "      <td>0</td>\n",
       "      <td>1.24</td>\n",
       "      <td>1</td>\n",
       "      <td>0</td>\n",
       "      <td>1</td>\n",
       "      <td>1</td>\n",
       "      <td>2</td>\n",
       "      <td>0</td>\n",
       "    </tr>\n",
       "    <tr>\n",
       "      <th>2</th>\n",
       "      <td>2</td>\n",
       "      <td>2</td>\n",
       "      <td>2</td>\n",
       "      <td>2</td>\n",
       "      <td>2</td>\n",
       "      <td>2</td>\n",
       "      <td>2</td>\n",
       "      <td>2</td>\n",
       "      <td>2</td>\n",
       "      <td>2</td>\n",
       "      <td>...</td>\n",
       "      <td>0</td>\n",
       "      <td>0</td>\n",
       "      <td>0</td>\n",
       "      <td>1.21</td>\n",
       "      <td>1</td>\n",
       "      <td>0</td>\n",
       "      <td>1</td>\n",
       "      <td>1</td>\n",
       "      <td>3</td>\n",
       "      <td>2</td>\n",
       "    </tr>\n",
       "  </tbody>\n",
       "</table>\n",
       "<p>3 rows × 45 columns</p>\n",
       "</div>"
      ],
      "text/plain": [
       "   Unnamed: 0.1  Unnamed: 0.1.1  Unnamed: 0.1.1.1  Unnamed: 0.1.1.1.1  \\\n",
       "0             0               0                 0                   0   \n",
       "1             1               1                 1                   1   \n",
       "2             2               2                 2                   2   \n",
       "\n",
       "   Unnamed: 0.1.1.1.1.1  Unnamed: 0.1.1.1.1.1.1  Unnamed: 0.1.1.1.1.1.1.1  \\\n",
       "0                     0                       0                         0   \n",
       "1                     1                       1                         1   \n",
       "2                     2                       2                         2   \n",
       "\n",
       "   Unnamed: 0.1.1.1.1.1.1.1.1  Unnamed: 0.1.1.1.1.1.1.1.1.1  \\\n",
       "0                           0                             0   \n",
       "1                           1                             1   \n",
       "2                           2                             2   \n",
       "\n",
       "   Unnamed: 0.1.1.1.1.1.1.1.1.1.1    ...     exprior  yearsworked  yearsrank  \\\n",
       "0                               0    ...           0            0          0   \n",
       "1                               1    ...           1            0          0   \n",
       "2                               2    ...           0            0          0   \n",
       "\n",
       "   market  degree  otherqual  position  male  Field  yearsabs  \n",
       "0    1.17       1          0         1     1      3         0  \n",
       "1    1.24       1          0         1     1      2         0  \n",
       "2    1.21       1          0         1     1      3         2  \n",
       "\n",
       "[3 rows x 45 columns]"
      ]
     },
     "execution_count": 1,
     "metadata": {},
     "output_type": "execute_result"
    }
   ],
   "source": [
    "import pandas as pd\n",
    "import numpy as np\n",
    "import scipy\n",
    "import statsmodels.api as sm\n",
    "from scipy import stats\n",
    "import matplotlib.pyplot as plt\n",
    "import seaborn as sns\n",
    "from sklearn import linear_model as lm\n",
    "\n",
    "data = pd.read_csv('salary.csv', index_col = 0)\n",
    "\n",
    "data.dropna\n",
    "\n",
    "data.head(n=3)\n",
    "\n",
    "\n",
    "\n"
   ]
  },
  {
   "cell_type": "code",
   "execution_count": 2,
   "metadata": {},
   "outputs": [
    {
     "data": {
      "text/html": [
       "<div>\n",
       "<style scoped>\n",
       "    .dataframe tbody tr th:only-of-type {\n",
       "        vertical-align: middle;\n",
       "    }\n",
       "\n",
       "    .dataframe tbody tr th {\n",
       "        vertical-align: top;\n",
       "    }\n",
       "\n",
       "    .dataframe thead th {\n",
       "        text-align: right;\n",
       "    }\n",
       "</style>\n",
       "<table border=\"1\" class=\"dataframe\">\n",
       "  <thead>\n",
       "    <tr style=\"text-align: right;\">\n",
       "      <th></th>\n",
       "      <th>salary</th>\n",
       "      <th>yearsworked</th>\n",
       "    </tr>\n",
       "  </thead>\n",
       "  <tbody>\n",
       "    <tr>\n",
       "      <th>0</th>\n",
       "      <td>53000.0</td>\n",
       "      <td>0</td>\n",
       "    </tr>\n",
       "  </tbody>\n",
       "</table>\n",
       "</div>"
      ],
      "text/plain": [
       "    salary  yearsworked\n",
       "0  53000.0            0"
      ]
     },
     "execution_count": 2,
     "metadata": {},
     "output_type": "execute_result"
    }
   ],
   "source": [
    "import pandas as pd\n",
    "\n",
    "data = pd.read_csv('salary.csv', index_col = 0)\n",
    "\n",
    "salary = data['salary']\n",
    "\n",
    "experience = data['yearsworked']\n",
    "\n",
    "list_of_tuples = list(zip(salary, experience))\n",
    "\n",
    "data2 = pd.DataFrame(list_of_tuples, columns = ['salary', 'yearsworked'])\n",
    "\n",
    "data2.head(n=1)\n"
   ]
  },
  {
   "cell_type": "code",
   "execution_count": 9,
   "metadata": {},
   "outputs": [
    {
     "ename": "AttributeError",
     "evalue": "module 'sklearn.linear_model' has no attribute 'summary'",
     "output_type": "error",
     "traceback": [
      "\u001b[0;31m---------------------------------------------------------------------------\u001b[0m",
      "\u001b[0;31mAttributeError\u001b[0m                            Traceback (most recent call last)",
      "\u001b[0;32m<ipython-input-9-5867b0dca049>\u001b[0m in \u001b[0;36m<module>\u001b[0;34m()\u001b[0m\n\u001b[1;32m      1\u001b[0m \u001b[0;34m\u001b[0m\u001b[0m\n\u001b[1;32m      2\u001b[0m \u001b[0;31m# print a summary of the fitted model\u001b[0m\u001b[0;34m\u001b[0m\u001b[0;34m\u001b[0m\u001b[0m\n\u001b[0;32m----> 3\u001b[0;31m \u001b[0mlm\u001b[0m\u001b[0;34m.\u001b[0m\u001b[0msummary\u001b[0m\u001b[0;34m(\u001b[0m\u001b[0;34m)\u001b[0m\u001b[0;34m\u001b[0m\u001b[0m\n\u001b[0m",
      "\u001b[0;31mAttributeError\u001b[0m: module 'sklearn.linear_model' has no attribute 'summary'"
     ]
    }
   ],
   "source": [
    " \n",
    "# print a summary of the fitted model\n",
    "lm.summary()"
   ]
  },
  {
   "cell_type": "code",
   "execution_count": 1,
   "metadata": {},
   "outputs": [
    {
     "data": {
      "text/html": [
       "<div>\n",
       "<style scoped>\n",
       "    .dataframe tbody tr th:only-of-type {\n",
       "        vertical-align: middle;\n",
       "    }\n",
       "\n",
       "    .dataframe tbody tr th {\n",
       "        vertical-align: top;\n",
       "    }\n",
       "\n",
       "    .dataframe thead th {\n",
       "        text-align: right;\n",
       "    }\n",
       "</style>\n",
       "<table border=\"1\" class=\"dataframe\">\n",
       "  <thead>\n",
       "    <tr style=\"text-align: right;\">\n",
       "      <th></th>\n",
       "      <th>Unnamed: 0.1</th>\n",
       "      <th>Unnamed: 0.1.1</th>\n",
       "      <th>Unnamed: 0.1.1.1</th>\n",
       "      <th>Unnamed: 0.1.1.1.1</th>\n",
       "      <th>Unnamed: 0.1.1.1.1.1</th>\n",
       "      <th>Unnamed: 0.1.1.1.1.1.1</th>\n",
       "      <th>Unnamed: 0.1.1.1.1.1.1.1</th>\n",
       "      <th>Unnamed: 0.1.1.1.1.1.1.1.1</th>\n",
       "      <th>Unnamed: 0.1.1.1.1.1.1.1.1.1</th>\n",
       "      <th>Unnamed: 0.1.1.1.1.1.1.1.1.1.1</th>\n",
       "      <th>...</th>\n",
       "      <th>exprior</th>\n",
       "      <th>yearsworked</th>\n",
       "      <th>yearsrank</th>\n",
       "      <th>market</th>\n",
       "      <th>degree</th>\n",
       "      <th>otherqual</th>\n",
       "      <th>position</th>\n",
       "      <th>male</th>\n",
       "      <th>Field</th>\n",
       "      <th>yearsabs</th>\n",
       "    </tr>\n",
       "  </thead>\n",
       "  <tbody>\n",
       "    <tr>\n",
       "      <th>475</th>\n",
       "      <td>475</td>\n",
       "      <td>475</td>\n",
       "      <td>475</td>\n",
       "      <td>475</td>\n",
       "      <td>475</td>\n",
       "      <td>475</td>\n",
       "      <td>475</td>\n",
       "      <td>475</td>\n",
       "      <td>475</td>\n",
       "      <td>475</td>\n",
       "      <td>...</td>\n",
       "      <td>15</td>\n",
       "      <td>1</td>\n",
       "      <td>1</td>\n",
       "      <td>0.91</td>\n",
       "      <td>1</td>\n",
       "      <td>0</td>\n",
       "      <td>3</td>\n",
       "      <td>0</td>\n",
       "      <td>1</td>\n",
       "      <td>42</td>\n",
       "    </tr>\n",
       "    <tr>\n",
       "      <th>308</th>\n",
       "      <td>308</td>\n",
       "      <td>308</td>\n",
       "      <td>308</td>\n",
       "      <td>308</td>\n",
       "      <td>308</td>\n",
       "      <td>308</td>\n",
       "      <td>308</td>\n",
       "      <td>308</td>\n",
       "      <td>308</td>\n",
       "      <td>308</td>\n",
       "      <td>...</td>\n",
       "      <td>0</td>\n",
       "      <td>27</td>\n",
       "      <td>0</td>\n",
       "      <td>0.91</td>\n",
       "      <td>1</td>\n",
       "      <td>0</td>\n",
       "      <td>3</td>\n",
       "      <td>1</td>\n",
       "      <td>4</td>\n",
       "      <td>1</td>\n",
       "    </tr>\n",
       "  </tbody>\n",
       "</table>\n",
       "<p>2 rows × 44 columns</p>\n",
       "</div>"
      ],
      "text/plain": [
       "     Unnamed: 0.1  Unnamed: 0.1.1  Unnamed: 0.1.1.1  Unnamed: 0.1.1.1.1  \\\n",
       "475           475             475               475                 475   \n",
       "308           308             308               308                 308   \n",
       "\n",
       "     Unnamed: 0.1.1.1.1.1  Unnamed: 0.1.1.1.1.1.1  Unnamed: 0.1.1.1.1.1.1.1  \\\n",
       "475                   475                     475                       475   \n",
       "308                   308                     308                       308   \n",
       "\n",
       "     Unnamed: 0.1.1.1.1.1.1.1.1  Unnamed: 0.1.1.1.1.1.1.1.1.1  \\\n",
       "475                         475                           475   \n",
       "308                         308                           308   \n",
       "\n",
       "     Unnamed: 0.1.1.1.1.1.1.1.1.1.1    ...     exprior  yearsworked  \\\n",
       "475                             475    ...          15            1   \n",
       "308                             308    ...           0           27   \n",
       "\n",
       "     yearsrank  market  degree  otherqual  position  male  Field  yearsabs  \n",
       "475          1    0.91       1          0         3     0      1        42  \n",
       "308          0    0.91       1          0         3     1      4         1  \n",
       "\n",
       "[2 rows x 44 columns]"
      ]
     },
     "execution_count": 1,
     "metadata": {},
     "output_type": "execute_result"
    }
   ],
   "source": [
    "# Split the data into training/testing sets\n",
    "import pandas as pd\n",
    "from random import seed\n",
    "from random import random as rand\n",
    "from sklearn.model_selection import train_test_split\n",
    "\n",
    "\n",
    "#df1['RAND'] = [ random.randint(1,10000000)  for k in df1.index]\n",
    "#print df1\n",
    "\n",
    "data = pd.read_csv('salary.csv', index_col = 0)\n",
    "\n",
    "salary = data['salary']\n",
    "\n",
    "experience = data['yearsworked']\n",
    "\n",
    "list_of_tuples = list(zip(salary, experience))\n",
    "\n",
    "data2 = pd.DataFrame(list_of_tuples, columns = ['salary', 'yearsworked'])\n",
    "                    \n",
    "                     \n",
    "from sklearn import linear_model\n",
    "from sklearn.metrics import mean_squared_error, r2_score\n",
    "data2 = pd.DataFrame(list_of_tuples, columns = ['salary', 'yearsworked'])\n",
    "\n",
    "y=data2.salary\n",
    "x=data.drop('salary',axis=1)\n",
    "\n",
    "x_train,x_test,y_train,y_test=train_test_split(x,y,test_size=0.2)\n",
    "x_train.head(n=2)\n",
    "\n",
    "#yearsworked = yearsworked[rand]\n",
    "#yearsworked= yearsworked[rand]\n",
    "\n",
    "# Split the targets into training/testing sets\n",
    "#salary = salary[rand]\n",
    "#salary = salary[rand]\n",
    "\n",
    "# Create linear regression object\n",
    "#regr = linear_model.LinearRegression()\n",
    "\n",
    "# Train the model using the training sets\n",
    "#regr.fit(yearsworked, salary)\n",
    "\n",
    "# Make predictions using the testing set\n",
    "#salary_y_pred = regr.predict(yearsworked)\n",
    "\n",
    "# Plot outputs\n",
    "#plt.scatter(yearsworked, salary,  color='black')\n",
    "#plt.plot(yearsworked, salary_y_pred, color='blue', linewidth=3)\n",
    "\n",
    "#plt.xticks(())\n",
    "#plt.yticks(())\n",
    "\n",
    "#plt.show()\n",
    "\n"
   ]
  },
  {
   "cell_type": "code",
   "execution_count": null,
   "metadata": {},
   "outputs": [],
   "source": [
    "# create a fitted model in one line\n",
    "lm = smf.ols(formula='salary ~ yearsworked', data=data).fit()\n",
    "\n",
    "# print the coefficients\n",
    "lm.params"
   ]
  },
  {
   "cell_type": "code",
   "execution_count": null,
   "metadata": {},
   "outputs": [],
   "source": [
    "Intercept = 40115.013788\n",
    "yearsworked = 837.33179\n",
    "predictor = Intercept + yearsworked\n",
    "\n",
    "print(predictor)"
   ]
  },
  {
   "cell_type": "code",
   "execution_count": 7,
   "metadata": {},
   "outputs": [],
   "source": [
    "\n",
    "import pandas as pd\n",
    "X_new = pd.DataFrame({'yearsworked': [50]})\n",
    "\n"
   ]
  },
  {
   "cell_type": "code",
   "execution_count": 8,
   "metadata": {},
   "outputs": [
    {
     "ename": "AttributeError",
     "evalue": "module 'sklearn.linear_model' has no attribute 'predict'",
     "output_type": "error",
     "traceback": [
      "\u001b[0;31m---------------------------------------------------------------------------\u001b[0m",
      "\u001b[0;31mAttributeError\u001b[0m                            Traceback (most recent call last)",
      "\u001b[0;32m<ipython-input-8-e2d2e846fbf4>\u001b[0m in \u001b[0;36m<module>\u001b[0;34m()\u001b[0m\n\u001b[0;32m----> 1\u001b[0;31m \u001b[0mlm\u001b[0m\u001b[0;34m.\u001b[0m\u001b[0mpredict\u001b[0m\u001b[0;34m(\u001b[0m\u001b[0mX_new\u001b[0m\u001b[0;34m)\u001b[0m\u001b[0;34m\u001b[0m\u001b[0m\n\u001b[0m",
      "\u001b[0;31mAttributeError\u001b[0m: module 'sklearn.linear_model' has no attribute 'predict'"
     ]
    }
   ],
   "source": [
    "lm.predict(X_new)"
   ]
  },
  {
   "cell_type": "code",
   "execution_count": null,
   "metadata": {},
   "outputs": [],
   "source": [
    "X_new = pd.DataFrame({'yearsworked': [data.yearsworked.min(), data2.yearsworked.max()]})\n"
   ]
  },
  {
   "cell_type": "code",
   "execution_count": null,
   "metadata": {},
   "outputs": [],
   "source": [
    "preds = lm.predict(X_new)\n",
    "preds\n"
   ]
  },
  {
   "cell_type": "code",
   "execution_count": 6,
   "metadata": {},
   "outputs": [
    {
     "ename": "SyntaxError",
     "evalue": "invalid syntax (<ipython-input-6-d25aa24ee3ad>, line 14)",
     "output_type": "error",
     "traceback": [
      "\u001b[0;36m  File \u001b[0;32m\"<ipython-input-6-d25aa24ee3ad>\"\u001b[0;36m, line \u001b[0;32m14\u001b[0m\n\u001b[0;31m    data2.plot(kind='scatter', x='yearsworked', y='salary')\u001b[0m\n\u001b[0m        ^\u001b[0m\n\u001b[0;31mSyntaxError\u001b[0m\u001b[0;31m:\u001b[0m invalid syntax\n"
     ]
    }
   ],
   "source": [
    "\n",
    "# first, plot the observed data\n",
    "%matplotlib inline\n",
    "data = pd.read_csv('salary.csv', index_col = 0)\n",
    "\n",
    "salary = data['salary']\n",
    "\n",
    "experience = data['yearsworked']\n",
    "\n",
    "list_of_tuples = list(zip(salary, experience))\n",
    "\n",
    "data2 = pd.DataFrame(list_of_tuples, columns = ['salary', 'yearsworked']\n",
    "\n",
    "\n",
    "data2.plot(kind='scatter', x='yearsworked', y='salary')\n",
    "\n",
    "\n",
    "# then, plot the least squares line\n",
    "plt.plot(new_W, preds, c='red', linewidth=2)"
   ]
  },
  {
   "cell_type": "code",
   "execution_count": null,
   "metadata": {},
   "outputs": [],
   "source": []
  },
  {
   "cell_type": "code",
   "execution_count": null,
   "metadata": {},
   "outputs": [],
   "source": []
  },
  {
   "cell_type": "code",
   "execution_count": null,
   "metadata": {},
   "outputs": [],
   "source": []
  },
  {
   "cell_type": "code",
   "execution_count": null,
   "metadata": {},
   "outputs": [],
   "source": [
    "import statsmodels.api as sm\n",
    "from scipy import stats\n",
    "import pandas as pd\n",
    "data = pd.read_csv('salary.csv', index_col = 0)\n",
    "\n",
    "salary = data['salary']\n",
    "\n",
    "yearsworked = data['yearsworked']\n",
    "\n",
    "list_of_tuples = list(zip(salary, yearsworked, ))\n",
    "\n",
    "data2 = pd.DataFrame(list_of_tuples, columns = ['salary', 'yearsworked'])\n",
    "\n",
    "#variance yearsworked\n",
    "varience = data2['yearsworked'].var()\n",
    "print('Varience:' ,varience)\n",
    "\n"
   ]
  },
  {
   "cell_type": "code",
   "execution_count": null,
   "metadata": {},
   "outputs": [],
   "source": [
    "data2.corr()"
   ]
  },
  {
   "cell_type": "code",
   "execution_count": null,
   "metadata": {},
   "outputs": [],
   "source": [
    "import scipy.stats as stats\n",
    "\n",
    "#(R2)\n",
    "RSquared = 0.389 #training set\n",
    "R2=0.623589\n",
    "\n",
    "\n",
    "#(p)\n",
    "rvs = stats.norm.rvs(yearsworked)\n",
    "#rvs2 = stats.norm.rvs(yearsworked)\n",
    "print(stats.ttest_1samp(rvs,0.5))\n"
   ]
  },
  {
   "cell_type": "code",
   "execution_count": null,
   "metadata": {},
   "outputs": [],
   "source": [
    "#Standard Error\n",
    "data2 = pd.DataFrame(list_of_tuples, columns = ['salary', 'yearsworked'])\n",
    "\n",
    "data2['yearsworked'].mean()\n",
    "\n",
    "Stadard error = 46.436\n",
    "\n",
    "PreStandard prev: 560\n",
    "    \n",
    "#The standard error of years worked is quite small, this indicates the less spread the data is \n",
    "#around the mean."
   ]
  },
  {
   "cell_type": "code",
   "execution_count": null,
   "metadata": {},
   "outputs": [],
   "source": [
    "#unstandardized coefficient\n",
    "b1_coeff = 0.623589\n",
    "\n",
    "#The unstandardized coeff ideally describes the posivite relatiionship\n",
    "#of the correlation, id displays a propotional relation as observed in the slope.\n"
   ]
  },
  {
   "cell_type": "code",
   "execution_count": null,
   "metadata": {},
   "outputs": [],
   "source": [
    "\n",
    "#y_dependentvar = yearsworked\n",
    "#My attempt at manually calculating the R2 value for ploting\n",
    "x_indie = salary\n",
    "b0_intercept = 40115.013788\n",
    "b1_coeff = 0.623589\n",
    "e_error = 46.436\n",
    "\n",
    "y = b0_intercept + (b1_coeff*x_indie) + e_error\n"
   ]
  },
  {
   "cell_type": "code",
   "execution_count": null,
   "metadata": {},
   "outputs": [],
   "source": []
  },
  {
   "cell_type": "code",
   "execution_count": null,
   "metadata": {},
   "outputs": [],
   "source": [
    "Intercept = 40115.013788\n",
    "yearsworked = 837.331790\n",
    "\n",
    "result = Intercept + yearsworked * 50\n",
    "print(result)"
   ]
  },
  {
   "cell_type": "code",
   "execution_count": null,
   "metadata": {},
   "outputs": [],
   "source": [
    "# use the model to make predictions on a new value\n",
    "import statsmodels.formula.api as smf\n",
    "import pandas as pd\n",
    "year12 = pd.DataFrame({'yearsworked': [12]})\n",
    "\n",
    "prediction= lm.predict(year12)"
   ]
  },
  {
   "cell_type": "code",
   "execution_count": null,
   "metadata": {},
   "outputs": [],
   "source": [
    "\n",
    "# make predictions for those x values and store them\n",
    "preds = lm.predict(year12)\n",
    "preds"
   ]
  },
  {
   "cell_type": "code",
   "execution_count": null,
   "metadata": {},
   "outputs": [],
   "source": [
    "year80 = pd.DataFrame({'yearsworked': [80]})\n",
    "\n"
   ]
  },
  {
   "cell_type": "code",
   "execution_count": null,
   "metadata": {},
   "outputs": [],
   "source": [
    "X_new2 = pd.DataFrame({'yearsworked': [80]})\n",
    "\n",
    "preds = lm.predict(year80)\n",
    "\n",
    "preds\n",
    "\n",
    "The major difference between 12 years and 80 years experience is that the\n",
    "the salary seems to double."
   ]
  },
  {
   "cell_type": "code",
   "execution_count": null,
   "metadata": {},
   "outputs": [],
   "source": [
    "# print the confidence intervals for the model coefficients\n",
    "lm.conf_int()"
   ]
  },
  {
   "cell_type": "code",
   "execution_count": null,
   "metadata": {},
   "outputs": [],
   "source": [
    "# print the R-squared value for the model\n",
    "lm.rsquared"
   ]
  },
  {
   "cell_type": "code",
   "execution_count": null,
   "metadata": {},
   "outputs": [],
   "source": [
    "import pandas as pd\n",
    "import matplotlib.pyplot as plt\n",
    "%matplotlib inline\n",
    "\n",
    "data = pd.read_csv('salary.csv', index_col = 0)\n",
    "\n",
    "exprior = data['exprior']\n",
    "yearsworked = data['yearsworked']\n",
    "yearsrank = data['yearsrank']\n",
    "\n",
    "# visualize the relationship between the features and the response using scatterplots\n",
    "fig, axs = plt.subplots(1, 3, sharey=True)\n",
    "data.plot(kind='scatter', x='exprior', y='salary', ax=axs[0], figsize=(16, 8))\n",
    "data.plot(kind='scatter', x='yearsworked', y='salary', ax=axs[1])\n",
    "data.plot(kind='scatter', x='yearsrank', y='salary', ax=axs[2])"
   ]
  },
  {
   "cell_type": "code",
   "execution_count": null,
   "metadata": {},
   "outputs": [],
   "source": [
    "#We could also look at yearsrank to better improve our model."
   ]
  }
 ],
 "metadata": {
  "kernelspec": {
   "display_name": "Python 3",
   "language": "python",
   "name": "python3"
  },
  "language_info": {
   "codemirror_mode": {
    "name": "ipython",
    "version": 3
   },
   "file_extension": ".py",
   "mimetype": "text/x-python",
   "name": "python",
   "nbconvert_exporter": "python",
   "pygments_lexer": "ipython3",
   "version": "3.6.5"
  }
 },
 "nbformat": 4,
 "nbformat_minor": 2
}
